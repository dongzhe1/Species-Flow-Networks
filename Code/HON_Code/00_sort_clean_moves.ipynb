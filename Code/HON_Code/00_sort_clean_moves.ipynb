{
 "cells": [
  {
   "cell_type": "markdown",
   "metadata": {},
   "source": [
    "###  This script forst sort moves and then outputs it to a move.sort file.\n",
    "\n",
    "##### Then, it takes the sorted moves and clean them based on the valid vessel data, arrival and sail time. it also generates all the problematic moves.\n",
    "##### Further, it attaches the data required for ship fouling estimate: duration, ship type, antifouling probability & weight BD for ballast. based on ship type.\n",
    "##### You can use the moves_cleaned_year.txt for all fruther processes with worring about the preprocessing.\n",
    "##### Need the temerature and salinity of the ports as well."
   ]
  },
 
  {
   "cell_type": "code",
   "execution_count": 2,
   "metadata": {},
   "outputs": [],
   "source": [
    "from datetime import datetime\n",
    "import datetime\n",
    "import time\n",
    "import collections\n",
    "from collections import defaultdict\n",
    "import csv\n"
   ]
  },
  {
   "cell_type": "code",
   "execution_count": 3,
   "metadata": {},
   "outputs": [
    {
     "name": "stdout",
     "output_type": "stream",
     "text": [
      "20\n"
     ]
    }
   ],
   "source": [
    "#Input\n",
    "year='2005'\n",
    "if year=='2015' or year=='2018':\n",
    "    year_range='2015-2018'\n",
    "    vessel_file='data/moves/vessel_port_info/2015-2018/vessels_'+str(year)+'_sc.csv'\n",
    "else:\n",
    "    year_range='1997-2012'\n",
    "    vessel_file='data/moves/vessel_port_info/'+year_range+'/vsl_'+str(year)+'.lst'\n",
    "\n",
    "header='VESSEL ID|MOVE REFNO|MOVE ID|PLACE ID|MOVETYPE|MOVETYPE QUALIFIER|ARRIVAL DATE|ARRIVAL DATE ESTIMATED|ARRIVAL DATE QUALIFIER|SAIL DATE|SAIL DATE ESTIMATED|SAIL DATE QUALIFIER|EDIT DATE|STAY DURATION|ROUT|DURATION|VESSEL TYPE|ANTIFOULING PROB|GWT|BALLAST DISCHARGE'\n",
    "move_file='data/moves/moves_'+str(year)+'.txt'\n",
    "\n",
    "#Output\n",
    "move_out='data/moves/moves_cleaned_'+str(year)+'.txt'#clean moves along with fouling factors\n",
    "move_sorted='data/moves/moves_'+str(year)+'.sort'\n",
    "print(len(header.split('|')))   "
   ]
  },
  {
   "cell_type": "markdown",
   "metadata": {},
   "source": [
    "## Sorting moves "
   ]
  },
  {
   "cell_type": "code",
   "execution_count": 4,
   "metadata": {
    "collapsed": true,
    "jupyter": {
     "outputs_hidden": true,
     "source_hidden": true
    }
   },
   "outputs": [
    {
     "ename": "KeyboardInterrupt",
     "evalue": "",
     "output_type": "error",
     "traceback": [
      "\u001b[0;31m---------------------------------------------\u001b[0m",
      "\u001b[0;31mKeyboardInterrupt\u001b[0mTraceback (most recent call last)",
      "\u001b[0;32m<ipython-input-4-2a1caf05fccd>\u001b[0m in \u001b[0;36m<module>\u001b[0;34m\u001b[0m\n\u001b[1;32m     10\u001b[0m \u001b[0mdata\u001b[0m\u001b[0;34m=\u001b[0m\u001b[0;34m[\u001b[0m\u001b[0;34m]\u001b[0m\u001b[0;34m\u001b[0m\u001b[0;34m\u001b[0m\u001b[0m\n\u001b[1;32m     11\u001b[0m \u001b[0;32mfor\u001b[0m \u001b[0mline\u001b[0m \u001b[0;32min\u001b[0m \u001b[0mlines\u001b[0m\u001b[0;34m[\u001b[0m\u001b[0;36m1\u001b[0m\u001b[0;34m:\u001b[0m\u001b[0;34m]\u001b[0m\u001b[0;34m:\u001b[0m\u001b[0;34m\u001b[0m\u001b[0;34m\u001b[0m\u001b[0m\n\u001b[0;32m---> 12\u001b[0;31m     \u001b[0ml\u001b[0m\u001b[0;34m=\u001b[0m\u001b[0mline\u001b[0m\u001b[0;34m.\u001b[0m\u001b[0msplit\u001b[0m\u001b[0;34m(\u001b[0m\u001b[0;34m'|'\u001b[0m\u001b[0;34m)\u001b[0m\u001b[0;34m\u001b[0m\u001b[0;34m\u001b[0m\u001b[0m\n\u001b[0m\u001b[1;32m     13\u001b[0m     \u001b[0mVesselID\u001b[0m\u001b[0;34m=\u001b[0m\u001b[0ml\u001b[0m\u001b[0;34m[\u001b[0m\u001b[0;36m0\u001b[0m\u001b[0;34m]\u001b[0m\u001b[0;34m.\u001b[0m\u001b[0mstrip\u001b[0m\u001b[0;34m(\u001b[0m\u001b[0;34m)\u001b[0m\u001b[0;34m\u001b[0m\u001b[0;34m\u001b[0m\u001b[0m\n\u001b[1;32m     14\u001b[0m     \u001b[0marrival\u001b[0m\u001b[0;34m=\u001b[0m\u001b[0ml\u001b[0m\u001b[0;34m[\u001b[0m\u001b[0;36m6\u001b[0m\u001b[0;34m]\u001b[0m\u001b[0;34m.\u001b[0m\u001b[0mstrip\u001b[0m\u001b[0;34m(\u001b[0m\u001b[0;34m)\u001b[0m\u001b[0;34m\u001b[0m\u001b[0;34m\u001b[0m\u001b[0m\n",
      "\u001b[0;31mKeyboardInterrupt\u001b[0m: "
     ]
    }
   ],
   "source": [
    "# Replacing the arrival time and sail time with datetime objects\n",
    "#move is sorted by vessel ids\n",
    "#data clean removes sail=nan or arrival = nan\n",
    "\n",
    "f=open(move_file,'r') #putting each move in a list \n",
    "lines=f.readlines()\n",
    "f.close()\n",
    "\n",
    "v_ID=[]\n",
    "data=[]\n",
    "for line in lines[1:]:\n",
    "    l=line.split('|')\n",
    "    VesselID=l[0].strip()\n",
    "    arrival=l[6].strip()\n",
    "    v_ID.append(VesselID)\n",
    "    data.append(l)\n",
    "\n",
    "data_clean = list(filter(lambda i: (i[6]!='' and i[9]!=''), data))\n",
    "move=sorted(data_clean, key=lambda x:int(x[0]))  # sort moves by vessel ids\n",
    "for m in move:\n",
    "    arrival=m[6]\n",
    "    sail=m[9]\n",
    "    VesselID=m[0]\n",
    "    try:\n",
    "        try:\n",
    "            time_struct_1 = time.strptime(arrival,'%d/%m/%Y %H:%M')\n",
    "        except:\n",
    "            time_struct_1 = time.strptime(arrival.split(' ')[0],'%d/%m/%Y')  \n",
    "        arrival_time=datetime.datetime.fromtimestamp(time.mktime(time_struct_1))\n",
    "        m[6]= arrival_time\n",
    "\n",
    "        try:\n",
    "            time_struct_2 = time.strptime(sail,'%d/%m/%Y %H:%M')\n",
    "        except:\n",
    "            time_struct_2 = time.strptime(sail.split(' ')[0],'%d/%m/%Y')  \n",
    "        sail_time=datetime.datetime.fromtimestamp(time.mktime(time_struct_2))\n",
    "        m[9]=sail_time\n",
    "    \n",
    "    except:\n",
    "        pass\n",
    "print(len(data))\n",
    "print(len(data_clean))"
   ]
  },
  {
   "cell_type": "code",
   "execution_count": null,
   "metadata": {
    "jupyter": {
     "source_hidden": true
    }
   },
   "outputs": [],
   "source": [
    "#Outputs the two types of key for sorting (sorting for arrival date)\n",
    "def sorting(L):\n",
    "    if (len(str(L).split(' '))==1):\n",
    "        return datetime.datetime.strptime(str(L) , '%Y-%m-%d')\n",
    "    else:\n",
    "        return datetime.datetime.strptime(str(L) , '%Y-%m-%d %H:%M:%S')"
   ]
  },
  {
   "cell_type": "code",
   "execution_count": null,
   "metadata": {
    "jupyter": {
     "source_hidden": true
    }
   },
   "outputs": [],
   "source": [
    "# Add all moves corresponding to a ship\n",
    "vessel_move=defaultdict(list) \n",
    "p_vessel_id='0'\n",
    "for m in move:\n",
    "    VesselID=m[0]\n",
    "    if(p_vessel_id==VesselID):\n",
    "        vessel_move[VesselID].append(m)\n",
    "    p_vessel_id=VesselID\n",
    "    \n",
    "#sort by ship id  \n",
    "ordered_vessel_move = collections.OrderedDict(sorted(vessel_move.items())) "
   ]
  },
  {
   "cell_type": "code",
   "execution_count": null,
   "metadata": {
    "jupyter": {
     "source_hidden": true
    }
   },
   "outputs": [],
   "source": [
    "sorted_move=[] #list of all vessel moves .x[6] is the arrival date\n",
    "for key,item in ordered_vessel_move.items():\n",
    "    sorted_vessel_move=sorted(ordered_vessel_move[key], key=lambda x: sorting(x[6])) #sorted list of all moves for a vessel \n",
    "    sorted_move.append(sorted_vessel_move)"
   ]
  },
  {
   "cell_type": "code",
   "execution_count": 11,
   "metadata": {
    "jupyter": {
     "source_hidden": true
    }
   },
   "outputs": [],
   "source": [
    "#wrute down the sorted move to a file\n",
    "with open (move_sorted, 'w') as fp:\n",
    "    for item in sorted_move:\n",
    "        for lists in item:\n",
    "            lists=[str(x).strip() for x in lists]\n",
    "            t='|'.join(lists)\n",
    "            fp.write(\"%s\\n\" % t)\n"
   ]
  },
  {
   "cell_type": "markdown",
   "metadata": {},
   "source": [
    "### cleaning the data and adding the fouling parameters"
   ]
  },
  {
   "cell_type": "code",
   "execution_count": 4,
   "metadata": {},
   "outputs": [],
   "source": [
    "def GetVesselData(fn, field, delim):\n",
    "    \n",
    "    vessel = {}\n",
    "    with open(fn) as csvfile:\n",
    "        reader = csv.DictReader(csvfile, delimiter=delim)\n",
    "        for row in reader:\n",
    "            vessel[row[field]] = row\n",
    "    return vessel"
   ]
  },
  {
   "cell_type": "code",
   "execution_count": 5,
   "metadata": {},
   "outputs": [],
   "source": [
    "categories={} #a translation of vessel types in vessel data file\n",
    "type_dic={\"Auto\":[\"OLC\", \"PRR\", \"URC\", \"URR\", \"MVE\"]\n",
    "            ,\"Container\":[\"UBC\", \"UCC\", \"UCR\"]\n",
    "            ,\"Tanker\":[\"TAC\", \"TAS\", \"TBK\", \"TCH\", \"TPD\", \"LNG\", \"LNP\"\n",
    "            , \"LPG\", \"TCR\", \"COO\", \"CBO\", \"TCO\"]\n",
    "            ,\"Passenger\":[\"MPR\", \"OFY\", \"OYT\"]\n",
    "            ,\"Bulk\":[\"BBU\",\"BCE\",\"BOR\",\"BWC\",\"UBG\"]          \n",
    "            ,\"General\":[\"BCB\", \"GCT\", \"GGC\",\"GPC\"]          \n",
    "            ,\"Other\":[\"XTG\", \"OBA\", \"OTB\", \"XAH\", \"XTS\", \"OSY\", \"OPO\"\n",
    "            ,\"DDR\",\"DTS\", \"XPT\", \"DSS\", \"DTD\", \"OCL\", \"OHL\", \"DHD\"]      \n",
    "            ,\"Chemical\":[\"TAC\", \"TAS\", \"TBK\", \"TCH\", \"TPD\"]\n",
    "            ,\"Liquified-Gas\":[\"LNG\", \"LNP\", \"LPG\"]\n",
    "            ,\"Oil\":[\"TCR\", \"COO\", \"CBO\", \"TCO\"]\n",
    "            ,\"Refrigerated-Cargo\":[\"GRF\"]\n",
    "            ,\"Fishing\":[\"FFC\", \"FFF\", \"FFS\", \"FTR\", \"FWH\"]\n",
    "            ,\"Research\":[\"RRE\"]\n",
    "            ,\"Yacht\":[\"OYT\"]\n",
    "          }\n",
    "antifouling={'Auto':0.2, 'Container':0.19, 'Tanker':0.3 \n",
    "             ,'Passenger':0.31, 'Bulk':0.42, 'General':0.53\n",
    "             ,'Other':0.63, 'Chemical':0.63, 'Liquified-Gas':0.63\n",
    "             ,'Oil':0.63, 'Refrigerated-Cargo':0.63, 'Fishing':0.63\n",
    "             , 'Research':0.63, 'Yacht':0.63}\n",
    "for key,val in type_dic.items():\n",
    "    for item in val:\n",
    "        categories[item]=key"
   ]
  },
  {
   "cell_type": "markdown",
   "metadata": {},
   "source": [
    "### Read vessel files"
   ]
  },
  {
   "cell_type": "code",
   "execution_count": 6,
   "metadata": {},
   "outputs": [
    {
     "name": "stdout",
     "output_type": "stream",
     "text": [
      "\n",
      "\n"
     ]
    }
   ],
   "source": [
    "#read vessel file from sal's and write it to a nice one.\n",
    "#vessel_file='data/lloyds_all_final_sc.csv' ;vessel_updated='data/lloyds_all_final_updated.txt';other_type_index=-2\n",
    "vessel_updated='data/moves/vessel_port_info/'+year_range+'/updated_vessels_'+str(year)+'.txt' ;other_type_index=-3\n",
    "f2 = open(vessel_updated,'w')\n",
    "\n",
    "vessel_type=defaultdict(list)    \n",
    "v=open(vessel_file,'r')\n",
    "if year in ['2018','2015']:\n",
    "    delim=','\n",
    "    index=[1,3,7]\n",
    "    strip_char='\"'\n",
    "else:\n",
    "    delim='|'\n",
    "    index=[0,2,5]\n",
    "    strip_char=''\n",
    "\n",
    "vdata=v.readlines();v.close()\n",
    "f2.write(','.join(map(str,[i.strip(strip_char) for i in vdata[0].split('\\n')[0].split(',')[1:]])) + '\\n')\n",
    "print(','.join(map(str,[i.strip(strip_char) for i in vdata[0].split('\\n')[0].split(',')[1:]])) + '\\n')\n",
    "for ships in vdata[1:]:\n",
    "    ll=ships.strip().split(delim)\n",
    "    \n",
    "    IMO=ll[index[0]+1].strip()\n",
    "    shipID=ll[index[0]].strip()\n",
    "    Type=ll[index[1]].strip(strip_char)\n",
    "    DWT=ll[index[2]].strip()\n",
    "    \n",
    "    if Type in categories.keys():\n",
    "        vessel_type[shipID]=categories[Type]\n",
    "    else:\n",
    "        Type_2=ll[other_type_index].strip('\"')\n",
    "        if Type_2=='General Cargo':Type_2='General'\n",
    "        vessel_type[shipID]= Type_2\n",
    "            \n",
    "    f2.write(shipID+','+IMO+','+vessel_type[shipID]+','+','.join(map(str,[i.strip(strip_char) for i in ships.split(delim)][4:])))    \n",
    "\n",
    "f2.close()"
   ]
  },
  {
   "cell_type": "code",
   "execution_count": 7,
   "metadata": {},
   "outputs": [],
   "source": [
    "#for years 1997-2012\n",
    "def get_vessel_type(VesselID,vessel_type,ships_year): #get vessel type from either dictionaries\n",
    "    mapping={'General Cargo':'General','RoRo':'Auto','Reefer':'Refrigerated-Cargo','Bulker':'Bulk',\n",
    "            'Tanker ':'Tanker'}\n",
    "\n",
    "    if VesselID in vessel_type:\n",
    "        return vessel_type[VesselID]\n",
    "    elif VesselID in ships_year:\n",
    "        if ships_year[VesselID]['VESSEL.TYPE'] in categories.keys():\n",
    "            return categories[ships_year[VesselID]['VESSEL.TYPE']]\n",
    "        else:\n",
    "            Type=ships_year[VesselID]['NBIC.code']\n",
    "            if Type in set(categories.values()):\n",
    "                return Type\n",
    "            if Type in mapping.keys():\n",
    "                return mapping[Type]\n",
    "            else:\n",
    "                return -1\n",
    "    else:\n",
    "        return -1"
   ]
  },
  {
   "cell_type": "code",
   "execution_count": 8,
   "metadata": {},
   "outputs": [
    {
     "name": "stdout",
     "output_type": "stream",
     "text": [
      "Number of moves  1909589\n"
     ]
    }
   ],
   "source": [
    "o=open(move_out,'w')\n",
    "o.write(header+'\\n')\n",
    "\n",
    "lines=open(move_sorted,'r').readlines()\n",
    "print(\"Number of moves \",len(lines))\n",
    "\n",
    "i, error=1,0\n",
    "PrevSail=lines[1].split('|')[9]  \n",
    "PrevArrival=lines[1].split('|')[6]  "
   ]
  },
  {
   "cell_type": "markdown",
   "metadata": {},
   "source": [
    "### For years 1997-2012 use this:"
   ]
  },
  {
   "cell_type": "code",
   "execution_count": 9,
   "metadata": {},
   "outputs": [
    {
     "name": "stdout",
     "output_type": "stream",
     "text": [
      "Number of errors:  20994\n"
     ]
    }
   ],
   "source": [
    "#vessel file containin ballast estimates\n",
    "ships_year = GetVesselData('data/lloyds_all_final_randomforest.csv', 'VESSEL.ID', ',')  \n",
    "\n",
    "for line in lines[1:]:\n",
    "    l=line.strip().split('|')\n",
    "    if len(l)==14:\n",
    "        l=l[:-1]\n",
    "    VesselID , currport =l[0].strip() , l[3].strip()\n",
    "    pVesselID=(lines[i-1].strip()).split('|')[0].strip() #previous vessel\n",
    "    prevport=(lines[i-1].strip()).split('|')[3].strip()\n",
    "    arrival, sail=l[6],l[9]\n",
    "    VesselType=get_vessel_type(VesselID,vessel_type,ships_year)\n",
    "    \n",
    "    if VesselType!=-1 and VesselID in ships_year.keys():\n",
    "        GWT=ships_year[VesselID]['GROSS']\n",
    "        ballast_discharge=ships_year[VesselID]['random_forest_br']\n",
    "\n",
    "        if (PrevSail!='' and PrevArrival!='' and GWT!='NA' and ballast_discharge!='NA' and VesselType!='Combo' and currport!=prevport):\n",
    "            try:\n",
    "                time_struct_0=time.strptime(sail,'%Y-%m-%d %H:%M:%S')\n",
    "                time_struct_1=time.strptime(PrevSail,'%Y-%m-%d %H:%M:%S')\n",
    "                time_struct_2=time.strptime(arrival,'%Y-%m-%d %H:%M:%S')\n",
    "                time_struct_3=time.strptime(PrevArrival,'%Y-%m-%d %H:%M:%S')\n",
    "                \n",
    "                SailTime=datetime.datetime.fromtimestamp(time.mktime(time_struct_0)) \n",
    "                PrevSailTime=datetime.datetime.fromtimestamp(time.mktime(time_struct_1)) #sailtime form prev port to current port, from previous move\n",
    "                ArrivalTime=datetime.datetime.fromtimestamp(time.mktime(time_struct_2)) #arrival at current port\n",
    "                PrevArrivalTime=datetime.datetime.fromtimestamp(time.mktime(time_struct_3)) #sail from prev port out\n",
    "                    \n",
    "                trip_duration=(ArrivalTime-PrevSailTime).days+round((ArrivalTime-PrevSailTime).seconds//3600/24,2)\n",
    "                stay_duration=(SailTime-ArrivalTime).days+round((SailTime-ArrivalTime).seconds//3600/24,2) #duration of stay in the source port(prevport)\n",
    "                antifouling_p=antifouling[VesselType]\n",
    "                \n",
    "                if (float(GWT)>=0 and time_struct_2>=time_struct_1 and pVesselID == VesselID):\n",
    "                    rout=str(stay_duration)+'|'+str(prevport)+'-'+str(currport)+'|'+str(trip_duration)\n",
    "                    ship_data=str(VesselType)+'|'+str(antifouling_p)+'|'+str(GWT)+'|'+str(ballast_discharge)\n",
    "                    my_line='|'.join(map(str,l))+'|'+rout+'|'+ship_data+'\\n'\n",
    "                    o.write(str(my_line))\n",
    "            except:\n",
    "                error+=1\n",
    "            \n",
    "        SrcPort = currport\n",
    "        PrevSail =sail\n",
    "        PrevArrival=arrival\n",
    "        i+=1\n",
    "    else:\n",
    "        error+=1\n",
    "\n",
    "o.close()\n",
    "print(\"Number of errors: \",error)"
   ]
  },
  {
   "cell_type": "code",
   "execution_count": null,
   "metadata": {},
   "outputs": [],
   "source": [
    "Note: for trip durations, some invalid moves are discarded, but they are used for calculating the trip durations.\n",
    "Stay durations were incorrect. Fixed them."
   ]
  },
  {
   "cell_type": "markdown",
   "metadata": {},
   "source": [
    "### For years 2015-2018 use this:"
   ]
  },
  {
   "cell_type": "code",
   "execution_count": 10,
   "metadata": {},
   "outputs": [
    {
     "name": "stdout",
     "output_type": "stream",
     "text": [
      "Number of errors:  1661416\n"
     ]
    }
   ],
   "source": [
    "ships = GetVesselData('data/moves/vessel_port_info/2015-2018/updated_vessels_'+str(year)+'.txt', 'VESSEL.ID',',')  \n",
    "i, error=1,0\n",
    "PrevSail=lines[1].split('|')[9]  \n",
    "PrevArrival=lines[1].split('|')[6]  \n",
    "\n",
    "for line in lines[1:]:\n",
    "    l=line.strip().split('|')\n",
    "    if len(l)==14:\n",
    "        l=l[:-1]\n",
    "    VesselID , currport=l[0].strip() , l[3].strip()\n",
    "    pVesselID=(lines[i-1].strip()).split('|')[0].strip() #previous vessel\n",
    "    prevport=(lines[i-1].strip()).split('|')[3].strip()\n",
    "    arrival , sail=l[6] , l[9]\n",
    "    if (PrevSail!='' and PrevArrival!='' and VesselID in ships.keys() and ships[VesselID]['release'] !='NA' and ships[VesselID]['z']!='NA' and currport!=prevport):\n",
    "        try:\n",
    "            time_struct_0=time.strptime(sail,'%Y-%m-%d %H:%M:%S')\n",
    "            time_struct_1=time.strptime(PrevSail,'%Y-%m-%d %H:%M:%S')\n",
    "            time_struct_2=time.strptime(arrival,'%Y-%m-%d %H:%M:%S')\n",
    "            time_struct_3=time.strptime(PrevArrival,'%Y-%m-%d %H:%M:%S')\n",
    "\n",
    "            SailTime=datetime.datetime.fromtimestamp(time.mktime(time_struct_0)) \n",
    "            PrevSailTime=datetime.datetime.fromtimestamp(time.mktime(time_struct_1)) #sailtime form prev port to current port, from previous move\n",
    "            ArrivalTime=datetime.datetime.fromtimestamp(time.mktime(time_struct_2)) #arrival at current port\n",
    "            PrevArrivalTime=datetime.datetime.fromtimestamp(time.mktime(time_struct_3)) #sail from prev port out\n",
    "                    \n",
    "            trip_duration=(ArrivalTime-PrevSailTime).days+round((ArrivalTime-PrevSailTime).seconds//3600/24,2)\n",
    "            stay_duration=(SailTime-ArrivalTime).days+round((SailTime-ArrivalTime).seconds//3600/24,2) #duration of stay in the source port(prevport)\n",
    "\n",
    "            ballast_discharge=float(ships[VesselID]['z'])*float(ships[VesselID]['release'])\n",
    "            GWT=float(ships[VesselID]['GROSS'])\n",
    "            antifouling_p=antifouling[ships[VesselID]['VESSEL.TYPE']]\n",
    "            \n",
    "            if (GWT>=0 and time_struct_2>=time_struct_1 and pVesselID == VesselID):\n",
    "                rout=str(stay_duration)+'|'+str(prevport)+'-'+str(currport)+'|'+str(trip_duration)\n",
    "                ship_data=str(ships[VesselID]['VESSEL.TYPE'])+'|'+str(antifouling_p)+'|'+str(GWT)+'|'+str(ballast_discharge)\n",
    "                my_line='|'.join(map(str,l))+'|'+rout+'|'+ship_data+'\\n'\n",
    "                o.write(str(my_line))\n",
    "        except:\n",
    "            error+=1\n",
    "    else:\n",
    "        error+=1\n",
    "\n",
    "    SrcPort = currport\n",
    "    PrevSail =sail\n",
    "    PrevArrival=arrival\n",
    "    i+=1\n",
    "o.close()\n",
    "print(\"Number of errors: \",error)"
   ]
  },
  {
   "cell_type": "code",
   "execution_count": null,
   "metadata": {},
   "outputs": [],
   "source": []
  }
 ],
 "metadata": {
  "anaconda-cloud": {},
  "kernelspec": {
   "display_name": "Python 3",
   "language": "python",
   "name": "python3"
  },
  "language_info": {
   "codemirror_mode": {
    "name": "ipython",
    "version": 3
   },
   "file_extension": ".py",
   "mimetype": "text/x-python",
   "name": "python",
   "nbconvert_exporter": "python",
   "pygments_lexer": "ipython3",
   "version": "3.6.12"
  }
 },
 "nbformat": 4,
 "nbformat_minor": 4
}
