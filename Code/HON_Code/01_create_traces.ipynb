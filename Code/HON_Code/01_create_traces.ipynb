{
 "cells": [
  {
   "cell_type": "code",
   "execution_count": null,
   "metadata": {},
   "outputs": [],
   "source": [
    "%cd /afs/crc.nd.edu/user/m/msaebi/Public/Code-SF-HON/\n",
    "import pandas as pd\n",
    "import time\n",
    "import datetime\n",
    "from datetime import datetime\n",
    "from collections import defaultdict\n",
    "import glob\n",
    "import os\n",
    "import itertools \n"
   ]
  },
  {
   "cell_type": "code",
   "execution_count": 6,
   "metadata": {},
   "outputs": [],
   "source": [
    "def process_df(year):\n",
    "    #data=pd.read_csv('data/moves/moves_cleaned_'+year+'.txt', sep=\"|\", header=None, error_bad_lines=False,low_memory=False)\n",
    "    data=pd.read_csv('data/moves/moves_cleaned_'+year+'.txt', sep=\"|\", header=None, engine='python',error_bad_lines=False)\n",
    "    data=data.reset_index()\n",
    "    new_header = data.iloc[0] #grab the first row for the header\n",
    "    data = data[1:100] #take the data less the header row\n",
    "    data.columns = new_header\n",
    "    r_data=pd.DataFrame(data, columns = [\"VESSEL ID\",\"MOVE ID\",\"PLACE ID\",\"ARRIVAL DATE\",\"SAIL DATE\"])\n",
    "    r_data['arrival']=r_data.apply(lambda row: get_date(row['ARRIVAL DATE']), axis=1)\n",
    "    return data\n",
    "\n",
    "def get_date(row):\n",
    "    return datetime.strptime(row, '%Y-%m-%d %H:%M:%S').date()\n",
    "\n",
    "def check_range(row,year1,lb1,ub1,year2,lb2,ub2):\n",
    "    if year1 == year2:\n",
    "        if (row.year == year1 and lb1<= row.month <= ub1):\n",
    "            return True\n",
    "    elif year1 != year2:\n",
    "        if (row.year == year1 and lb1<= row.month <= ub1) or (row.year == year2 and lb2<= row.month <= ub2):\n",
    "            return True\n",
    "    \n",
    "    return False\n"
   ]
  },
  {
   "cell_type": "markdown",
   "metadata": {},
   "source": [
    "### Read the data"
   ]
  },
  {
   "cell_type": "code",
   "execution_count": 7,
   "metadata": {},
   "outputs": [],
   "source": [
    "#from IPython.display import display, HTML\n",
    "def create_trace_write(df,year):\n",
    "    IDs=set(df['VESSEL ID'].tolist()) # all the unique vessel ids\n",
    "    ID2 = sorted([int(i) for i in IDs]) \n",
    "    traces = defaultdict(list)\n",
    "    print(\"start\")\n",
    "    for ids in ID2:\n",
    "        v_df=df[df['VESSEL ID']==str(ids)] #create a df for each vessel\n",
    "        for index, row in v_df.iterrows(): #iterate thought each vessel data frame and create the trace of moves \n",
    "            traces[str(ids)].append(int(row['PLACE ID']))\n",
    "    traces_final= defaultdict(list)        \n",
    "    for key, value in traces.items():\n",
    "        traces_final[key]=[item for item, grp in itertools.groupby(value)]  \n",
    "    \n",
    "    #write it to the txt file   \n",
    "    with open('data/'+year+'/traces_'+ year+'.txt', 'w') as f:\n",
    "        for key, value in traces_final.items():\n",
    "            f.write(str(key)+' '+','.join(map(repr,value ))+'\\n')\n",
    "    print('done')"
   ]
  },
  {
   "cell_type": "code",
   "execution_count": 8,
   "metadata": {},
   "outputs": [],
   "source": [
    "df_2015 = process_df('2015')\n"
   ]
  },
  {
   "cell_type": "code",
   "execution_count": null,
   "metadata": {},
   "outputs": [],
   "source": [
    "create_trace_write(df_2015,'2015')"
   ]
  },
  {
   "cell_type": "code",
   "execution_count": 13,
   "metadata": {},
   "outputs": [],
   "source": [
    "traces_final= defaultdict(list)\n",
    "for key, value in traces.items():\n",
    "        traces_final[key]=[item for item, grp in itertools.groupby(value)] "
   ]
  },
  {
   "cell_type": "code",
   "execution_count": null,
   "metadata": {},
   "outputs": [],
   "source": [
    "IDs=set(df['VESSEL ID'].tolist()) # all the unique vessel ids\n",
    "ID2 = sorted([int(i) for i in IDs]) \n",
    "traces = defaultdict(list)\n",
    "#ID2=['31']\n",
    "print(\"start\")\n",
    "for ids in ID2:\n",
    "    v_df=df[df['VESSEL ID']==str(ids)] #create a df for each vessel\n",
    "    for index, row in v_df.iterrows(): #iterate thought each vessel data frame and create the trace of moves \n",
    "        traces[str(ids)].append(int(row['PLACE ID']))\n",
    "    \n",
    "    for key, value in traces.items():\n",
    "        traces_final[key]=[item for item, grp in itertools.groupby(value)]  \n",
    "#write it to the txt file   \n",
    "\n",
    "with open('data/2012/'+ filename+'.txt', 'w') as f:\n",
    "    for key, value in traces.items():\n",
    "         f.write(str(key)+' '+','.join(map(repr,value ))+'\\n')"
   ]
  },
  {
   "cell_type": "markdown",
   "metadata": {},
   "source": [
    "### Removing duplicates"
   ]
  },
  {
   "cell_type": "code",
   "execution_count": 35,
   "metadata": {},
   "outputs": [],
   "source": [
    "def open_trace_file(file):\n",
    "    print(file)\n",
    "    traces=defaultdict(list)\n",
    "    lines=open(file,'r').readlines()\n",
    "    for line in lines:\n",
    "        l=line.split('\\n')[0].split(' ')\n",
    "        traces[l[0]]=[int(i) for i in l[1].split(',')]\n",
    "    return traces"
   ]
  },
  {
   "cell_type": "code",
   "execution_count": null,
   "metadata": {},
   "outputs": [],
   "source": [
    "import glob\n",
    "import os\n",
    "import itertools \n",
    "year='1997'\n",
    "files=glob.glob(os.path.expanduser('~/Public/Code-SF-HON/data/'+year+'/traces_'+year+'.txt'))\n",
    "\n",
    "traces=open_trace_file(files)    \n",
    "traces_final= defaultdict(list)\n",
    "for key, value in traces.items():\n",
    "    traces_final[key]=[item for item, grp in itertools.groupby(value)]   \n",
    "\n",
    "with open(file.replace('.txt','-2.txt'), 'w') as f:\n",
    "    for key, value in traces_final.items():\n",
    "        f.write(str(key)+' '+','.join(map(repr,value ))+'\\n')\n"
   ]
  },
  {
   "cell_type": "code",
   "execution_count": null,
   "metadata": {
    "collapsed": true,
    "jupyter": {
     "outputs_hidden": true,
     "source_hidden": true
    }
   },
   "outputs": [],
   "source": [
    "#remove duplicated port in each vessel trace. Don't need to do if you use clean_moves\n",
    "fil=os.path.expanduser('~/Public/Code-SF-HON/data/1997/traces_1997.txt')\n",
    "all_traces=open_trace_file(fil)\n",
    "all_vessels=list(all_traces.keys())\n",
    "print(len(all_traces.keys()))\n",
    "\n",
    "for year in ['1999','2002','2005','2008','2012','2015','2018']:\n",
    "    file=os.path.expanduser('~/Public/Code-SF-HON/data/'+year+'/traces_'+year+'.txt')\n",
    "    traces=open_trace_file(file)    \n",
    "    i=0\n",
    "    all_vessels.extend(list(traces.keys()))\n",
    "    for key,val in traces.items():\n",
    "        if key in all_traces.keys():\n",
    "            i+=1\n",
    "            all_traces[key].extend(val)\n",
    "        else:\n",
    "            all_traces[key]=val\n",
    "    print(i,len(all_traces.keys()))\n",
    "\n",
    "with open('data/traces_1997_2018.txt', 'w') as f:\n",
    "    for key, value in all_traces.items():\n",
    "        f.write(str(key)+' '+','.join(map(repr,value ))+'\\n')\n",
    "\n",
    "    \n"
   ]
  }
 ],
 "metadata": {
  "anaconda-cloud": {},
  "kernelspec": {
   "display_name": "Python 3",
   "language": "python",
   "name": "python3"
  },
  "language_info": {
   "codemirror_mode": {
    "name": "ipython",
    "version": 3
   },
   "file_extension": ".py",
   "mimetype": "text/x-python",
   "name": "python",
   "nbconvert_exporter": "python",
   "pygments_lexer": "ipython3",
   "version": "3.6.12"
  }
 },
 "nbformat": 4,
 "nbformat_minor": 4
}
