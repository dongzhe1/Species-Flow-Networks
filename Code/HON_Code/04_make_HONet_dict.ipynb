{
 "cells": [
  {
   "cell_type": "code",
   "execution_count": 1,
   "metadata": {},
   "outputs": [
    {
     "name": "stdout",
     "output_type": "stream",
     "text": [
      "/afs/crc.nd.edu/user/m/msaebi/Public/Code-SF-HON\n"
     ]
    }
   ],
   "source": [
    "import pprint\n",
    "import sys\n",
    "from collections import defaultdict\n",
    "import time\n",
    "import csv\n",
    "import math\n",
    "import sys\n",
    "import time\n",
    "from datetime import datetime\n",
    "import datetime\n",
    "from decimal import Decimal\n",
    "import pandas as pd\n",
    "import numpy as np\n",
    "from collections import OrderedDict\n",
    "import matplotlib.pyplot as plt\n",
    "import matplotlib\n",
    "import networkx as nx\n",
    "import itertools\n",
    "from scripts import make_HONet_dic\n",
    "from scripts import utils\n",
    "\n",
    "%cd /afs/crc.nd.edu/user/m/msaebi/Public/Code-SF-HON/"
   ]
  },
  {
   "cell_type": "code",
   "execution_count": 2,
   "metadata": {},
   "outputs": [],
   "source": [
    "#inpput:\n",
    "year='2018';r='r0';order=16;\n",
    "#eco='noEco_';env='noEnv_';paul=''#'paul/\n",
    "eco='sameEco_'; env='env_';paul='zh/'+r+'/'+r+'_';y=year+'/'\n",
    "prams=env+eco+year\n",
    "\n",
    "#Input\n",
    "port_data='data/Places_allportdata_mergedSept2017.csv'\n",
    "OutputNetworkFile_Ballast='data/'+y+'HONet_Ballast_'+prams +'_'+str(order)+'.csv'\n",
    "OutputNetworkFile_Fouling='data/'+y+'HONet_Fouling_' +prams+'_'+str(order)+'.csv'\n",
    "\n",
    "#output\n",
    "physical_net_file_b='data/'+y+'hon_ballast_net_'+prams+'.txt'\n",
    "physical_net_file_f='data/'+y+'hon_fouling_net_'+prams+'.txt'\n",
    "\n",
    "agg_risk_file_b='data/'+y+'hon_ballast_agg_risk_'+ prams+'.txt'\n",
    "agg_risk_file_f='data/'+y+'hon_fouling_agg_risk_'+ prams+'.txt'\n",
    "\n",
    "    #translation files and nets\n",
    "dic_b='data/'+y+paul+'HONet_Ballast_'+ prams+'_'+str(order)+'.dic'\n",
    "dic_f='data/'+y+paul+'HONet_Fouling_'+ prams+'_'+str(order)+'.dic'\n",
    "\n",
    "HONet_translated_b='data/'+y+'trans_HONet_Ballast_'+prams+'_'+str(order)+'.net'\n",
    "HONet_translated_f='data/'+y+'trans_HONet_Fouling_'+ prams+'_'+str(order)+'.net'\n",
    "\n",
    "dic_b=HONet_translated_b.replace('.net','.dic')\n",
    "dic_f=HONet_translated_f.replace('.net','.dic')\n",
    "\n",
    "    # links\n",
    "HONlinks_b='data/'+y+'HONlinks_Ballast_'+prams+'_'+str(order)+'.csv'\n",
    "HONlinks_f='data/'+y+'HONlinks_Fouling_'+prams+'_'+str(order)+'.csv'"
   ]
  },
  {
   "cell_type": "code",
   "execution_count": 4,
   "metadata": {},
   "outputs": [],
   "source": [
    "port_data='data/Places_allportdata_mergedSept2017.csv'\n",
    "ports=utils.GetPortData(port_data,'ID',',')"
   ]
  },
  {
   "cell_type": "markdown",
   "metadata": {},
   "source": [
    "## Build normalize physical network (and aggregated port risks) from HON"
   ]
  },
  {
   "cell_type": "code",
   "execution_count": 5,
   "metadata": {},
   "outputs": [
    {
     "name": "stdout",
     "output_type": "stream",
     "text": [
      "280\n",
      "max_val:  36.510086825975364\n",
      ".net written with  0  errors\n",
      "Port risks written\n"
     ]
    }
   ],
   "source": [
    "write=True\n",
    "hon_ballast_normalized,hon_ballast_agg_risks,all_ports_b=make_HONet_dic.build_shipping_net_and_port_risk(OutputNetworkFile_Ballast,write,physical_net_file_b,agg_risk_file_b)"
   ]
  },
  {
   "cell_type": "code",
   "execution_count": 6,
   "metadata": {
    "collapsed": true,
    "jupyter": {
     "outputs_hidden": true
    }
   },
   "outputs": [
    {
     "ename": "FileNotFoundError",
     "evalue": "[Errno 2] No such file or directory: 'data/2018/zh/r2/r2_HONet_Fouling_env_sameEco_2018_16.csv'",
     "output_type": "error",
     "traceback": [
      "\u001b[0;31m---------------------------------------------------------------------------\u001b[0m",
      "\u001b[0;31mFileNotFoundError\u001b[0m                         Traceback (most recent call last)",
      "\u001b[0;32m<ipython-input-6-f53128bef754>\u001b[0m in \u001b[0;36m<module>\u001b[0;34m\u001b[0m\n\u001b[1;32m      1\u001b[0m \u001b[0mwrite\u001b[0m\u001b[0;34m=\u001b[0m\u001b[0;32mTrue\u001b[0m\u001b[0;34m\u001b[0m\u001b[0;34m\u001b[0m\u001b[0m\n\u001b[0;32m----> 2\u001b[0;31m \u001b[0mhon_fouling_normalized\u001b[0m\u001b[0;34m,\u001b[0m\u001b[0mhon_fouling_agg_risks\u001b[0m\u001b[0;34m,\u001b[0m\u001b[0mall_ports_f\u001b[0m\u001b[0;34m=\u001b[0m\u001b[0mbuild_shipping_net_and_port_risk\u001b[0m\u001b[0;34m(\u001b[0m\u001b[0mOutputNetworkFile_Fouling\u001b[0m\u001b[0;34m,\u001b[0m\u001b[0mwrite\u001b[0m\u001b[0;34m,\u001b[0m\u001b[0mphysical_net_file_f\u001b[0m\u001b[0;34m,\u001b[0m\u001b[0magg_risk_file_f\u001b[0m\u001b[0;34m)\u001b[0m\u001b[0;34m\u001b[0m\u001b[0;34m\u001b[0m\u001b[0m\n\u001b[0m",
      "\u001b[0;32m<ipython-input-3-b91b294c2321>\u001b[0m in \u001b[0;36mbuild_shipping_net_and_port_risk\u001b[0;34m(hon_alg_output, write, net_file, agg_risk_file)\u001b[0m\n\u001b[1;32m     19\u001b[0m \u001b[0;34m\u001b[0m\u001b[0m\n\u001b[1;32m     20\u001b[0m \u001b[0;32mdef\u001b[0m \u001b[0mbuild_shipping_net_and_port_risk\u001b[0m\u001b[0;34m(\u001b[0m\u001b[0mhon_alg_output\u001b[0m\u001b[0;34m,\u001b[0m\u001b[0mwrite\u001b[0m\u001b[0;34m,\u001b[0m\u001b[0mnet_file\u001b[0m\u001b[0;34m,\u001b[0m\u001b[0magg_risk_file\u001b[0m\u001b[0;34m)\u001b[0m\u001b[0;34m:\u001b[0m\u001b[0;34m\u001b[0m\u001b[0;34m\u001b[0m\u001b[0m\n\u001b[0;32m---> 21\u001b[0;31m     \u001b[0mp_AdjList\u001b[0m\u001b[0;34m,\u001b[0m\u001b[0mAdjList\u001b[0m\u001b[0;34m,\u001b[0m\u001b[0mall_ports\u001b[0m\u001b[0;34m=\u001b[0m\u001b[0mget_p_adjlist\u001b[0m\u001b[0;34m(\u001b[0m\u001b[0mhon_alg_output\u001b[0m\u001b[0;34m)\u001b[0m\u001b[0;34m\u001b[0m\u001b[0;34m\u001b[0m\u001b[0m\n\u001b[0m\u001b[1;32m     22\u001b[0m \u001b[0;34m\u001b[0m\u001b[0m\n\u001b[1;32m     23\u001b[0m     \u001b[0mp_AdjList\u001b[0m\u001b[0;34m=\u001b[0m\u001b[0mlist_sum_dic\u001b[0m\u001b[0;34m(\u001b[0m\u001b[0mp_AdjList\u001b[0m\u001b[0;34m)\u001b[0m\u001b[0;34m\u001b[0m\u001b[0;34m\u001b[0m\u001b[0m\n",
      "\u001b[0;32m<ipython-input-2-43de11f714e5>\u001b[0m in \u001b[0;36mget_p_adjlist\u001b[0;34m(HONet)\u001b[0m\n\u001b[1;32m    180\u001b[0m     \u001b[0mall_ports\u001b[0m\u001b[0;34m=\u001b[0m\u001b[0mset\u001b[0m\u001b[0;34m(\u001b[0m\u001b[0;34m{\u001b[0m\u001b[0;34m}\u001b[0m\u001b[0;34m)\u001b[0m\u001b[0;34m\u001b[0m\u001b[0;34m\u001b[0m\u001b[0m\n\u001b[1;32m    181\u001b[0m     \u001b[0;31m# 2005.txt\u001b[0m\u001b[0;34m\u001b[0m\u001b[0;34m\u001b[0m\u001b[0;34m\u001b[0m\u001b[0m\n\u001b[0;32m--> 182\u001b[0;31m     \u001b[0;32mwith\u001b[0m \u001b[0mopen\u001b[0m\u001b[0;34m(\u001b[0m\u001b[0mHONet\u001b[0m\u001b[0;34m)\u001b[0m \u001b[0;32mas\u001b[0m \u001b[0mf\u001b[0m\u001b[0;34m:\u001b[0m\u001b[0;34m\u001b[0m\u001b[0;34m\u001b[0m\u001b[0m\n\u001b[0m\u001b[1;32m    183\u001b[0m \u001b[0;34m\u001b[0m\u001b[0m\n\u001b[1;32m    184\u001b[0m         \u001b[0;32mfor\u001b[0m \u001b[0mline\u001b[0m \u001b[0;32min\u001b[0m \u001b[0mf\u001b[0m\u001b[0;34m:\u001b[0m\u001b[0;34m\u001b[0m\u001b[0;34m\u001b[0m\u001b[0m\n",
      "\u001b[0;31mFileNotFoundError\u001b[0m: [Errno 2] No such file or directory: 'data/2018/zh/r2/r2_HONet_Fouling_env_sameEco_2018_16.csv'"
     ]
    }
   ],
   "source": [
    "write=True\n",
    "hon_fouling_normalized,hon_fouling_agg_risks,all_ports_f=make_HONet_dic.build_shipping_net_and_port_risk(OutputNetworkFile_Fouling,write,physical_net_file_f,agg_risk_file_f)"
   ]
  },
  {
   "cell_type": "markdown",
   "metadata": {},
   "source": [
    "### Write links for ArcGIS"
   ]
  },
  {
   "cell_type": "code",
   "execution_count": 7,
   "metadata": {},
   "outputs": [
    {
     "name": "stdout",
     "output_type": "stream",
     "text": [
      "Links written\n"
     ]
    }
   ],
   "source": [
    "make_HONet_dic.write_hon_links(HONlinks_b, hon_ballast_agg_risks, hon_ballast_normalized, ports)\n",
    "make_HONet_dic.write_hon_links(HONlinks_f, hon_fouling_agg_risks, hon_fouling_normalized, ports)\n"
   ]
  },
  {
   "cell_type": "markdown",
   "metadata": {},
   "source": [
    "### Write the translated net and dic file for HON clustering\n"
   ]
  },
  {
   "cell_type": "code",
   "execution_count": 8,
   "metadata": {},
   "outputs": [
    {
     "name": "stdout",
     "output_type": "stream",
     "text": [
      "4366\n",
      "Dictionary written\n",
      ".net_translated written with  0  errors\n"
     ]
    }
   ],
   "source": [
    "_,HON_ballast,all_ports_b=make_HONet_dic.get_p_adjlist(OutputNetworkFile_Ballast) #ballast\n",
    "_,HON_ballast,all_ports_b=make_HONet_dic.get_p_adjlist(OutputNetworkFile_Fouling)  #biofouling\n",
    "\n",
    "make_HONet_dic.write_dic_net(HON_ballast,all_ports_b,dic_b,HONet_translated_b) #ballast\n",
    "make_HONet_dic.write_dic_net(HON_fouling,all_ports_f,dic_f,HONet_translated_f) #biofouling"
   ]
  },
  {
   "cell_type": "markdown",
   "metadata": {},
   "source": [
    "### Write the port risks from HON"
   ]
  },
  {
   "cell_type": "code",
   "execution_count": null,
   "metadata": {},
   "outputs": [],
   "source": [
    "make_HONet_dic.write_port_risks(hon_agg_risks_b,agg_port_risk_b) #ballast\n",
    "make_HONet_dic.write_port_risks(hon_agg_risks_f,agg_port_risk_f) #biofouling"
   ]
  },
  {
   "cell_type": "code",
   "execution_count": 55,
   "metadata": {},
   "outputs": [
    {
     "data": {
      "text/plain": [
       "dict_keys(['2012'])"
      ]
     },
     "execution_count": 55,
     "metadata": {},
     "output_type": "execute_result"
    }
   ],
   "source": [
    "ports=GetPortData(port_data,'ID',',')\n",
    "p_AdjList_b,AdjList_b,all_ports_b=make_HONet_dic.get_p_adjlist(HONet_b)\n",
    "p_AdjList_b=make_HONet_dic.list_mean_dic(p_AdjList_b)\n",
    "agg_port_risk_b=make_HONet_dic.risk_mean(p_AdjList_b) #Aggregate all risks for a port (over all incoming ports)\n",
    "\n",
    "\n",
    "p_AdjList_f,AdjList_f,all_ports_f=make_HONet_dic.get_p_adjlist(HONet_f)\n",
    "p_AdjList_f=make_HONet_dic.list_mean_dic(p_AdjList_f)\n",
    "agg_port_risk_f=make_HONet_dic.risk_mean(p_AdjList_f) #Aggregate all risks for a port (over all incoming ports)\n",
    "\n"
   ]
  }
 ],
 "metadata": {
  "anaconda-cloud": {},
  "kernelspec": {
   "display_name": "Python 3",
   "language": "python",
   "name": "python3"
  },
  "language_info": {
   "codemirror_mode": {
    "name": "ipython",
    "version": 3
   },
   "file_extension": ".py",
   "mimetype": "text/x-python",
   "name": "python",
   "nbconvert_exporter": "python",
   "pygments_lexer": "ipython3",
   "version": "3.6.12"
  }
 },
 "nbformat": 4,
 "nbformat_minor": 4
}
