{
 "cells": [
  {
   "cell_type": "code",
   "execution_count": 18,
   "metadata": {},
   "outputs": [],
   "source": [
    "import pprint\n",
    "import sys\n",
    "from collections import defaultdict\n",
    "import time\n",
    "import csv\n",
    "import math\n",
    "import sys\n",
    "import time\n",
    "from datetime import datetime\n",
    "import datetime\n",
    "from decimal import Decimal\n",
    "import pandas as pd\n",
    "import numpy as np\n",
    "from collections import OrderedDict\n",
    "import matplotlib.pyplot as plt\n",
    "import matplotlib\n",
    "import networkx as nx\n",
    "import itertools\n",
    "from scripts import make_HONet_dic\n",
    "from scripts import utils\n"
   ]
  },
  {
   "cell_type": "code",
   "execution_count": 19,
   "metadata": {},
   "outputs": [],
   "source": [
    "#inpput:\n",
    "year='2018';r='r0';order=16;\n",
    "#eco='noEco_';env='noEnv_';paul=''#'paul/\n",
    "eco='Eco_'; env='env_';paul='';y=year+'/'\n",
    "prams=env+eco+year\n",
    "\n",
    "#Input\n",
    "port_data='../../data/Places_allportdata_mergedSept2017.csv'\n",
    "OutputNetworkFile_Ballast='../../data/'+y+'HONet_Ballast_'+prams +'_'+str(order)+'.csv'\n",
    "OutputNetworkFile_Fouling='../../data/'+y+'HONet_Fouling_' +prams+'_'+str(order)+'.csv'\n",
    "\n",
    "#output\n",
    "physical_net_file_b='../../data/'+y+'hon_ballast_net_'+prams+'.txt'\n",
    "physical_net_file_f='../../data/'+y+'hon_fouling_net_'+prams+'.txt'\n",
    "\n",
    "agg_risk_file_b='../../data/'+y+'hon_ballast_agg_risk_'+ prams+'.txt'\n",
    "agg_risk_file_f='../../data/'+y+'hon_fouling_agg_risk_'+ prams+'.txt'\n",
    "\n",
    "    #translation files and nets\n",
    "dic_b='../../data/'+y+paul+'HONet_Ballast_'+ prams+'_'+str(order)+'.dic'\n",
    "dic_f='../../data/'+y+paul+'HONet_Fouling_'+ prams+'_'+str(order)+'.dic'\n",
    "\n",
    "HONet_translated_b='../../data/'+y+'trans_HONet_Ballast_'+prams+'_'+str(order)+'.net'\n",
    "HONet_translated_f='../../data/'+y+'trans_HONet_Fouling_'+ prams+'_'+str(order)+'.net'\n",
    "\n",
    "dic_b=HONet_translated_b.replace('.net','.dic')\n",
    "dic_f=HONet_translated_f.replace('.net','.dic')\n",
    "\n",
    "    # links\n",
    "HONlinks_b='../../data/'+y+'HONlinks_Ballast_'+prams+'_'+str(order)+'.csv'\n",
    "HONlinks_f='../../data/'+y+'HONlinks_Fouling_'+prams+'_'+str(order)+'.csv'"
   ]
  },
  {
   "cell_type": "code",
   "execution_count": 20,
   "metadata": {},
   "outputs": [],
   "source": [
    "port_data='../../data/Places_allportdata_mergedSept2017.csv'\n",
    "ports=utils.GetPortData(port_data,'ID',',')"
   ]
  },
  {
   "cell_type": "markdown",
   "metadata": {},
   "source": [
    "## Build normalize physical network (and aggregated port risks) from HON"
   ]
  },
  {
   "cell_type": "code",
   "execution_count": null,
   "metadata": {},
   "outputs": [],
   "source": [
    "write=True\n",
    "hon_ballast_normalized,hon_ballast_agg_risks,all_ports_b=make_HONet_dic.build_shipping_net_and_port_risk(OutputNetworkFile_Ballast,write,physical_net_file_b,agg_risk_file_b)"
   ]
  },
  {
   "cell_type": "code",
   "execution_count": null,
   "metadata": {
    "collapsed": true,
    "jupyter": {
     "outputs_hidden": true
    }
   },
   "outputs": [],
   "source": [
    "write=True\n",
    "hon_fouling_normalized,hon_fouling_agg_risks,all_ports_f=make_HONet_dic.build_shipping_net_and_port_risk(OutputNetworkFile_Fouling,write,physical_net_file_f,agg_risk_file_f)"
   ]
  },
  {
   "cell_type": "markdown",
   "metadata": {},
   "source": [
    "### Write links for ArcGIS"
   ]
  },
  {
   "cell_type": "code",
   "execution_count": null,
   "metadata": {},
   "outputs": [],
   "source": [
    "make_HONet_dic.write_hon_links(HONlinks_b, hon_ballast_agg_risks, hon_ballast_normalized, ports)\n",
    "make_HONet_dic.write_hon_links(HONlinks_f, hon_fouling_agg_risks, hon_fouling_normalized, ports)\n"
   ]
  },
  {
   "cell_type": "markdown",
   "metadata": {},
   "source": [
    "### Write the translated net and dic file for HON clustering\n"
   ]
  },
  {
   "cell_type": "code",
   "execution_count": null,
   "metadata": {},
   "outputs": [],
   "source": [
    "_,HON_ballast,all_ports_b=make_HONet_dic.get_p_adjlist(OutputNetworkFile_Ballast) #ballast\n",
    "_,HON_fouling,all_ports_b=make_HONet_dic.get_p_adjlist(OutputNetworkFile_Fouling)  #biofouling\n",
    "\n",
    "make_HONet_dic.write_dic_net(HON_ballast,all_ports_b,dic_b,HONet_translated_b) #ballast\n",
    "make_HONet_dic.write_dic_net(HON_fouling,all_ports_f,dic_f,HONet_translated_f) #biofouling"
   ]
  },
  {
   "cell_type": "markdown",
   "metadata": {},
   "source": [
    "### Write the port risks from HON"
   ]
  },
  {
   "cell_type": "code",
   "execution_count": null,
   "metadata": {},
   "outputs": [],
   "source": [
    "make_HONet_dic.write_port_risks(hon_agg_risks_b,agg_port_risk_b) #ballast\n",
    "make_HONet_dic.write_port_risks(hon_agg_risks_f,agg_port_risk_f) #biofouling"
   ]
  },
  {
   "cell_type": "code",
   "execution_count": null,
   "metadata": {},
   "outputs": [],
   "source": [
    "ports=GetPortData(port_data,'ID',',')\n",
    "p_AdjList_b,AdjList_b,all_ports_b=make_HONet_dic.get_p_adjlist(HONet_b)\n",
    "p_AdjList_b=make_HONet_dic.list_mean_dic(p_AdjList_b)\n",
    "agg_port_risk_b=make_HONet_dic.risk_mean(p_AdjList_b) #Aggregate all risks for a port (over all incoming ports)\n",
    "\n",
    "\n",
    "p_AdjList_f,AdjList_f,all_ports_f=make_HONet_dic.get_p_adjlist(HONet_f)\n",
    "p_AdjList_f=make_HONet_dic.list_mean_dic(p_AdjList_f)\n",
    "agg_port_risk_f=make_HONet_dic.risk_mean(p_AdjList_f) #Aggregate all risks for a port (over all incoming ports)\n",
    "\n"
   ]
  }
 ],
 "metadata": {
  "anaconda-cloud": {},
  "kernelspec": {
   "display_name": ".venv",
   "language": "python",
   "name": "python3"
  },
  "language_info": {
   "codemirror_mode": {
    "name": "ipython",
    "version": 3
   },
   "file_extension": ".py",
   "mimetype": "text/x-python",
   "name": "python",
   "nbconvert_exporter": "python",
   "pygments_lexer": "ipython3",
   "version": "3.13.1"
  }
 },
 "nbformat": 4,
 "nbformat_minor": 4
}
